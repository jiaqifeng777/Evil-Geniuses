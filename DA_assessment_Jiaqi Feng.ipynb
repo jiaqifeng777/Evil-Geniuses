{
 "cells": [
  {
   "cell_type": "code",
   "execution_count": 1,
   "id": "ca46d31b",
   "metadata": {},
   "outputs": [],
   "source": [
    "import pandas as pd\n",
    "import numpy as np\n",
    "import datetime"
   ]
  },
  {
   "cell_type": "code",
   "execution_count": 2,
   "id": "276cb386",
   "metadata": {},
   "outputs": [],
   "source": [
    "# Read the Excel file into a DataFrame\n",
    "df = pd.read_excel('social_data.xlsx')"
   ]
  },
  {
   "cell_type": "code",
   "execution_count": 3,
   "id": "64ab1725",
   "metadata": {},
   "outputs": [
    {
     "data": {
      "text/html": [
       "<div>\n",
       "<style scoped>\n",
       "    .dataframe tbody tr th:only-of-type {\n",
       "        vertical-align: middle;\n",
       "    }\n",
       "\n",
       "    .dataframe tbody tr th {\n",
       "        vertical-align: top;\n",
       "    }\n",
       "\n",
       "    .dataframe thead th {\n",
       "        text-align: right;\n",
       "    }\n",
       "</style>\n",
       "<table border=\"1\" class=\"dataframe\">\n",
       "  <thead>\n",
       "    <tr style=\"text-align: right;\">\n",
       "      <th></th>\n",
       "      <th>Published Date</th>\n",
       "      <th>Account</th>\n",
       "      <th>Account Type</th>\n",
       "      <th>Campaign Name</th>\n",
       "      <th>Total Impressions</th>\n",
       "      <th>Total Engagements</th>\n",
       "      <th>Media Type</th>\n",
       "    </tr>\n",
       "  </thead>\n",
       "  <tbody>\n",
       "    <tr>\n",
       "      <th>0</th>\n",
       "      <td>2023-03-31 19:55:43.192</td>\n",
       "      <td>CSGO</td>\n",
       "      <td>TWITTER</td>\n",
       "      <td>N/A</td>\n",
       "      <td>0.0</td>\n",
       "      <td>0.0</td>\n",
       "      <td>Text</td>\n",
       "    </tr>\n",
       "    <tr>\n",
       "      <th>1</th>\n",
       "      <td>2023-03-31 19:49:35.243</td>\n",
       "      <td>CSGO</td>\n",
       "      <td>TWITTER</td>\n",
       "      <td>N/A</td>\n",
       "      <td>0.0</td>\n",
       "      <td>0.0</td>\n",
       "      <td>Text</td>\n",
       "    </tr>\n",
       "    <tr>\n",
       "      <th>2</th>\n",
       "      <td>2023-03-31 19:49:33.535</td>\n",
       "      <td>CSGO</td>\n",
       "      <td>TWITTER</td>\n",
       "      <td>N/A</td>\n",
       "      <td>0.0</td>\n",
       "      <td>0.0</td>\n",
       "      <td>Text</td>\n",
       "    </tr>\n",
       "    <tr>\n",
       "      <th>3</th>\n",
       "      <td>2023-03-31 19:49:31.583</td>\n",
       "      <td>CSGO</td>\n",
       "      <td>TWITTER</td>\n",
       "      <td>N/A</td>\n",
       "      <td>0.0</td>\n",
       "      <td>0.0</td>\n",
       "      <td>Text</td>\n",
       "    </tr>\n",
       "    <tr>\n",
       "      <th>4</th>\n",
       "      <td>2023-03-31 19:43:42.590</td>\n",
       "      <td>CSGO</td>\n",
       "      <td>TWITTER</td>\n",
       "      <td>Community Engagement</td>\n",
       "      <td>9517.0</td>\n",
       "      <td>1215.0</td>\n",
       "      <td>Video</td>\n",
       "    </tr>\n",
       "  </tbody>\n",
       "</table>\n",
       "</div>"
      ],
      "text/plain": [
       "           Published Date Account Account Type          Campaign Name  \\\n",
       "0 2023-03-31 19:55:43.192    CSGO      TWITTER                   N/A    \n",
       "1 2023-03-31 19:49:35.243    CSGO      TWITTER                   N/A    \n",
       "2 2023-03-31 19:49:33.535    CSGO      TWITTER                   N/A    \n",
       "3 2023-03-31 19:49:31.583    CSGO      TWITTER                   N/A    \n",
       "4 2023-03-31 19:43:42.590    CSGO      TWITTER  Community Engagement    \n",
       "\n",
       "   Total Impressions  Total Engagements Media Type  \n",
       "0                0.0                0.0       Text  \n",
       "1                0.0                0.0       Text  \n",
       "2                0.0                0.0       Text  \n",
       "3                0.0                0.0       Text  \n",
       "4             9517.0             1215.0      Video  "
      ]
     },
     "execution_count": 3,
     "metadata": {},
     "output_type": "execute_result"
    }
   ],
   "source": [
    "df.head()"
   ]
  },
  {
   "cell_type": "markdown",
   "id": "7ae47a88",
   "metadata": {},
   "source": [
    "#### 1. What is the typical engagement rate we can expect? What’s the likelihood that we can achieve a 15% engagement rate?"
   ]
  },
  {
   "cell_type": "code",
   "execution_count": 4,
   "id": "e8864360",
   "metadata": {},
   "outputs": [
    {
     "data": {
      "text/html": [
       "<div>\n",
       "<style scoped>\n",
       "    .dataframe tbody tr th:only-of-type {\n",
       "        vertical-align: middle;\n",
       "    }\n",
       "\n",
       "    .dataframe tbody tr th {\n",
       "        vertical-align: top;\n",
       "    }\n",
       "\n",
       "    .dataframe thead th {\n",
       "        text-align: right;\n",
       "    }\n",
       "</style>\n",
       "<table border=\"1\" class=\"dataframe\">\n",
       "  <thead>\n",
       "    <tr style=\"text-align: right;\">\n",
       "      <th></th>\n",
       "      <th>Published Date</th>\n",
       "      <th>Account</th>\n",
       "      <th>Account Type</th>\n",
       "      <th>Campaign Name</th>\n",
       "      <th>Total Impressions</th>\n",
       "      <th>Total Engagements</th>\n",
       "      <th>Media Type</th>\n",
       "    </tr>\n",
       "  </thead>\n",
       "  <tbody>\n",
       "    <tr>\n",
       "      <th>4</th>\n",
       "      <td>2023-03-31 19:43:42.590</td>\n",
       "      <td>CSGO</td>\n",
       "      <td>TWITTER</td>\n",
       "      <td>Community Engagement</td>\n",
       "      <td>9517.0</td>\n",
       "      <td>1215.0</td>\n",
       "      <td>Video</td>\n",
       "    </tr>\n",
       "    <tr>\n",
       "      <th>6</th>\n",
       "      <td>2023-03-31 19:40:57.383</td>\n",
       "      <td>CSGO</td>\n",
       "      <td>TWITTER</td>\n",
       "      <td>Community Engagement</td>\n",
       "      <td>1882.0</td>\n",
       "      <td>83.0</td>\n",
       "      <td>Photo</td>\n",
       "    </tr>\n",
       "    <tr>\n",
       "      <th>7</th>\n",
       "      <td>2023-03-31 19:23:57.349</td>\n",
       "      <td>CSGO</td>\n",
       "      <td>TWITTER</td>\n",
       "      <td>Community Engagement</td>\n",
       "      <td>17892.0</td>\n",
       "      <td>3076.0</td>\n",
       "      <td>Video</td>\n",
       "    </tr>\n",
       "    <tr>\n",
       "      <th>9</th>\n",
       "      <td>2023-03-31 18:55:51.855</td>\n",
       "      <td>CSGO</td>\n",
       "      <td>TWITTER</td>\n",
       "      <td>Community Engagement</td>\n",
       "      <td>13874.0</td>\n",
       "      <td>1447.0</td>\n",
       "      <td>Video</td>\n",
       "    </tr>\n",
       "    <tr>\n",
       "      <th>10</th>\n",
       "      <td>2023-03-31 18:36:01.000</td>\n",
       "      <td>General</td>\n",
       "      <td>FBPAGE</td>\n",
       "      <td>Community Engagement</td>\n",
       "      <td>37692.0</td>\n",
       "      <td>8044.0</td>\n",
       "      <td>Photo</td>\n",
       "    </tr>\n",
       "    <tr>\n",
       "      <th>...</th>\n",
       "      <td>...</td>\n",
       "      <td>...</td>\n",
       "      <td>...</td>\n",
       "      <td>...</td>\n",
       "      <td>...</td>\n",
       "      <td>...</td>\n",
       "      <td>...</td>\n",
       "    </tr>\n",
       "    <tr>\n",
       "      <th>3440</th>\n",
       "      <td>2023-01-08 11:47:23.222</td>\n",
       "      <td>General</td>\n",
       "      <td>TWITTER</td>\n",
       "      <td>Community Engagement</td>\n",
       "      <td>19823.0</td>\n",
       "      <td>243.0</td>\n",
       "      <td>Photo</td>\n",
       "    </tr>\n",
       "    <tr>\n",
       "      <th>3459</th>\n",
       "      <td>2023-01-05 09:00:25.769</td>\n",
       "      <td>CSGO</td>\n",
       "      <td>TWITTER</td>\n",
       "      <td>Community Engagement</td>\n",
       "      <td>445130.0</td>\n",
       "      <td>10597.0</td>\n",
       "      <td>Video</td>\n",
       "    </tr>\n",
       "    <tr>\n",
       "      <th>3461</th>\n",
       "      <td>2023-01-04 14:57:31.000</td>\n",
       "      <td>General</td>\n",
       "      <td>FBPAGE</td>\n",
       "      <td>Community Engagement</td>\n",
       "      <td>155521.0</td>\n",
       "      <td>19098.0</td>\n",
       "      <td>Photo</td>\n",
       "    </tr>\n",
       "    <tr>\n",
       "      <th>3464</th>\n",
       "      <td>2023-01-04 13:00:02.187</td>\n",
       "      <td>General</td>\n",
       "      <td>TWITTER</td>\n",
       "      <td>Community Engagement</td>\n",
       "      <td>136660.0</td>\n",
       "      <td>2371.0</td>\n",
       "      <td>Photo</td>\n",
       "    </tr>\n",
       "    <tr>\n",
       "      <th>3465</th>\n",
       "      <td>2023-01-04 13:00:01.000</td>\n",
       "      <td>General</td>\n",
       "      <td>FBPAGE</td>\n",
       "      <td>Community Engagement</td>\n",
       "      <td>29051.0</td>\n",
       "      <td>811.0</td>\n",
       "      <td>Photo</td>\n",
       "    </tr>\n",
       "  </tbody>\n",
       "</table>\n",
       "<p>1994 rows × 7 columns</p>\n",
       "</div>"
      ],
      "text/plain": [
       "              Published Date   Account Account Type          Campaign Name  \\\n",
       "4    2023-03-31 19:43:42.590      CSGO      TWITTER  Community Engagement    \n",
       "6    2023-03-31 19:40:57.383      CSGO      TWITTER  Community Engagement    \n",
       "7    2023-03-31 19:23:57.349      CSGO      TWITTER  Community Engagement    \n",
       "9    2023-03-31 18:55:51.855      CSGO      TWITTER  Community Engagement    \n",
       "10   2023-03-31 18:36:01.000  General        FBPAGE  Community Engagement    \n",
       "...                      ...       ...          ...                    ...   \n",
       "3440 2023-01-08 11:47:23.222  General       TWITTER  Community Engagement    \n",
       "3459 2023-01-05 09:00:25.769      CSGO      TWITTER  Community Engagement    \n",
       "3461 2023-01-04 14:57:31.000  General        FBPAGE  Community Engagement    \n",
       "3464 2023-01-04 13:00:02.187  General       TWITTER  Community Engagement    \n",
       "3465 2023-01-04 13:00:01.000  General        FBPAGE  Community Engagement    \n",
       "\n",
       "      Total Impressions  Total Engagements Media Type  \n",
       "4                9517.0             1215.0      Video  \n",
       "6                1882.0               83.0      Photo  \n",
       "7               17892.0             3076.0      Video  \n",
       "9               13874.0             1447.0      Video  \n",
       "10              37692.0             8044.0      Photo  \n",
       "...                 ...                ...        ...  \n",
       "3440            19823.0              243.0      Photo  \n",
       "3459           445130.0            10597.0      Video  \n",
       "3461           155521.0            19098.0      Photo  \n",
       "3464           136660.0             2371.0      Photo  \n",
       "3465            29051.0              811.0      Photo  \n",
       "\n",
       "[1994 rows x 7 columns]"
      ]
     },
     "execution_count": 4,
     "metadata": {},
     "output_type": "execute_result"
    }
   ],
   "source": [
    "campaign_df = df[df['Campaign Name'] != 'N/A ']\n",
    "campaign_df"
   ]
  },
  {
   "cell_type": "code",
   "execution_count": 5,
   "id": "20f4c18b",
   "metadata": {},
   "outputs": [
    {
     "name": "stdout",
     "output_type": "stream",
     "text": [
      "Engagement Rate: 4.99%\n"
     ]
    }
   ],
   "source": [
    "engagement_rate = np.mean(campaign_df['Total Engagements'] / campaign_df['Total Impressions']) * 100\n",
    "print(\"Engagement Rate: {:.2f}%\".format(engagement_rate))"
   ]
  },
  {
   "cell_type": "code",
   "execution_count": 6,
   "id": "20bab5ad",
   "metadata": {},
   "outputs": [
    {
     "name": "stdout",
     "output_type": "stream",
     "text": [
      "Likelihood that we can achieve a 15% engagement rate is 7.17%\n"
     ]
    }
   ],
   "source": [
    "pr = campaign_df[campaign_df['Total Engagements'] / campaign_df['Total Impressions'] >= 0.15].shape[0] / \\\n",
    "campaign_df.shape[0] * 100\n",
    "print(\"Likelihood that we can achieve a 15% engagement rate is {:.2f}%\".format(pr))"
   ]
  },
  {
   "cell_type": "markdown",
   "id": "ba174bbf",
   "metadata": {},
   "source": [
    "#### 2. Does day of the week and time of posting affect engagement rates?"
   ]
  },
  {
   "cell_type": "code",
   "execution_count": 7,
   "id": "defb9410",
   "metadata": {},
   "outputs": [],
   "source": [
    "campaign_df = campaign_df.copy()\n",
    "campaign_df['Engagement Rate'] = campaign_df['Total Engagements'] / campaign_df['Total Impressions']"
   ]
  },
  {
   "cell_type": "code",
   "execution_count": 8,
   "id": "09d0f93b",
   "metadata": {},
   "outputs": [
    {
     "data": {
      "text/html": [
       "<div>\n",
       "<style scoped>\n",
       "    .dataframe tbody tr th:only-of-type {\n",
       "        vertical-align: middle;\n",
       "    }\n",
       "\n",
       "    .dataframe tbody tr th {\n",
       "        vertical-align: top;\n",
       "    }\n",
       "\n",
       "    .dataframe thead th {\n",
       "        text-align: right;\n",
       "    }\n",
       "</style>\n",
       "<table border=\"1\" class=\"dataframe\">\n",
       "  <thead>\n",
       "    <tr style=\"text-align: right;\">\n",
       "      <th></th>\n",
       "      <th>Published Date</th>\n",
       "      <th>Account</th>\n",
       "      <th>Account Type</th>\n",
       "      <th>Campaign Name</th>\n",
       "      <th>Total Impressions</th>\n",
       "      <th>Total Engagements</th>\n",
       "      <th>Media Type</th>\n",
       "      <th>Engagement Rate</th>\n",
       "    </tr>\n",
       "  </thead>\n",
       "  <tbody>\n",
       "    <tr>\n",
       "      <th>4</th>\n",
       "      <td>2023-03-31 19:43:42.590</td>\n",
       "      <td>CSGO</td>\n",
       "      <td>TWITTER</td>\n",
       "      <td>Community Engagement</td>\n",
       "      <td>9517.0</td>\n",
       "      <td>1215.0</td>\n",
       "      <td>Video</td>\n",
       "      <td>0.127666</td>\n",
       "    </tr>\n",
       "    <tr>\n",
       "      <th>6</th>\n",
       "      <td>2023-03-31 19:40:57.383</td>\n",
       "      <td>CSGO</td>\n",
       "      <td>TWITTER</td>\n",
       "      <td>Community Engagement</td>\n",
       "      <td>1882.0</td>\n",
       "      <td>83.0</td>\n",
       "      <td>Photo</td>\n",
       "      <td>0.044102</td>\n",
       "    </tr>\n",
       "    <tr>\n",
       "      <th>7</th>\n",
       "      <td>2023-03-31 19:23:57.349</td>\n",
       "      <td>CSGO</td>\n",
       "      <td>TWITTER</td>\n",
       "      <td>Community Engagement</td>\n",
       "      <td>17892.0</td>\n",
       "      <td>3076.0</td>\n",
       "      <td>Video</td>\n",
       "      <td>0.171920</td>\n",
       "    </tr>\n",
       "    <tr>\n",
       "      <th>9</th>\n",
       "      <td>2023-03-31 18:55:51.855</td>\n",
       "      <td>CSGO</td>\n",
       "      <td>TWITTER</td>\n",
       "      <td>Community Engagement</td>\n",
       "      <td>13874.0</td>\n",
       "      <td>1447.0</td>\n",
       "      <td>Video</td>\n",
       "      <td>0.104296</td>\n",
       "    </tr>\n",
       "    <tr>\n",
       "      <th>10</th>\n",
       "      <td>2023-03-31 18:36:01.000</td>\n",
       "      <td>General</td>\n",
       "      <td>FBPAGE</td>\n",
       "      <td>Community Engagement</td>\n",
       "      <td>37692.0</td>\n",
       "      <td>8044.0</td>\n",
       "      <td>Photo</td>\n",
       "      <td>0.213414</td>\n",
       "    </tr>\n",
       "    <tr>\n",
       "      <th>...</th>\n",
       "      <td>...</td>\n",
       "      <td>...</td>\n",
       "      <td>...</td>\n",
       "      <td>...</td>\n",
       "      <td>...</td>\n",
       "      <td>...</td>\n",
       "      <td>...</td>\n",
       "      <td>...</td>\n",
       "    </tr>\n",
       "    <tr>\n",
       "      <th>3440</th>\n",
       "      <td>2023-01-08 11:47:23.222</td>\n",
       "      <td>General</td>\n",
       "      <td>TWITTER</td>\n",
       "      <td>Community Engagement</td>\n",
       "      <td>19823.0</td>\n",
       "      <td>243.0</td>\n",
       "      <td>Photo</td>\n",
       "      <td>0.012258</td>\n",
       "    </tr>\n",
       "    <tr>\n",
       "      <th>3459</th>\n",
       "      <td>2023-01-05 09:00:25.769</td>\n",
       "      <td>CSGO</td>\n",
       "      <td>TWITTER</td>\n",
       "      <td>Community Engagement</td>\n",
       "      <td>445130.0</td>\n",
       "      <td>10597.0</td>\n",
       "      <td>Video</td>\n",
       "      <td>0.023807</td>\n",
       "    </tr>\n",
       "    <tr>\n",
       "      <th>3461</th>\n",
       "      <td>2023-01-04 14:57:31.000</td>\n",
       "      <td>General</td>\n",
       "      <td>FBPAGE</td>\n",
       "      <td>Community Engagement</td>\n",
       "      <td>155521.0</td>\n",
       "      <td>19098.0</td>\n",
       "      <td>Photo</td>\n",
       "      <td>0.122800</td>\n",
       "    </tr>\n",
       "    <tr>\n",
       "      <th>3464</th>\n",
       "      <td>2023-01-04 13:00:02.187</td>\n",
       "      <td>General</td>\n",
       "      <td>TWITTER</td>\n",
       "      <td>Community Engagement</td>\n",
       "      <td>136660.0</td>\n",
       "      <td>2371.0</td>\n",
       "      <td>Photo</td>\n",
       "      <td>0.017350</td>\n",
       "    </tr>\n",
       "    <tr>\n",
       "      <th>3465</th>\n",
       "      <td>2023-01-04 13:00:01.000</td>\n",
       "      <td>General</td>\n",
       "      <td>FBPAGE</td>\n",
       "      <td>Community Engagement</td>\n",
       "      <td>29051.0</td>\n",
       "      <td>811.0</td>\n",
       "      <td>Photo</td>\n",
       "      <td>0.027916</td>\n",
       "    </tr>\n",
       "  </tbody>\n",
       "</table>\n",
       "<p>1994 rows × 8 columns</p>\n",
       "</div>"
      ],
      "text/plain": [
       "              Published Date   Account Account Type          Campaign Name  \\\n",
       "4    2023-03-31 19:43:42.590      CSGO      TWITTER  Community Engagement    \n",
       "6    2023-03-31 19:40:57.383      CSGO      TWITTER  Community Engagement    \n",
       "7    2023-03-31 19:23:57.349      CSGO      TWITTER  Community Engagement    \n",
       "9    2023-03-31 18:55:51.855      CSGO      TWITTER  Community Engagement    \n",
       "10   2023-03-31 18:36:01.000  General        FBPAGE  Community Engagement    \n",
       "...                      ...       ...          ...                    ...   \n",
       "3440 2023-01-08 11:47:23.222  General       TWITTER  Community Engagement    \n",
       "3459 2023-01-05 09:00:25.769      CSGO      TWITTER  Community Engagement    \n",
       "3461 2023-01-04 14:57:31.000  General        FBPAGE  Community Engagement    \n",
       "3464 2023-01-04 13:00:02.187  General       TWITTER  Community Engagement    \n",
       "3465 2023-01-04 13:00:01.000  General        FBPAGE  Community Engagement    \n",
       "\n",
       "      Total Impressions  Total Engagements Media Type  Engagement Rate  \n",
       "4                9517.0             1215.0      Video         0.127666  \n",
       "6                1882.0               83.0      Photo         0.044102  \n",
       "7               17892.0             3076.0      Video         0.171920  \n",
       "9               13874.0             1447.0      Video         0.104296  \n",
       "10              37692.0             8044.0      Photo         0.213414  \n",
       "...                 ...                ...        ...              ...  \n",
       "3440            19823.0              243.0      Photo         0.012258  \n",
       "3459           445130.0            10597.0      Video         0.023807  \n",
       "3461           155521.0            19098.0      Photo         0.122800  \n",
       "3464           136660.0             2371.0      Photo         0.017350  \n",
       "3465            29051.0              811.0      Photo         0.027916  \n",
       "\n",
       "[1994 rows x 8 columns]"
      ]
     },
     "execution_count": 8,
     "metadata": {},
     "output_type": "execute_result"
    }
   ],
   "source": [
    "campaign_df"
   ]
  },
  {
   "cell_type": "code",
   "execution_count": 9,
   "id": "08b4487e",
   "metadata": {},
   "outputs": [],
   "source": [
    "# Apply day_name() to 'Published Date' column\n",
    "campaign_df['Day of Week'] = campaign_df['Published Date'].dt.day_name()"
   ]
  },
  {
   "cell_type": "code",
   "execution_count": 10,
   "id": "1a44dde7",
   "metadata": {},
   "outputs": [
    {
     "name": "stdout",
     "output_type": "stream",
     "text": [
      "Day of Week\n",
      "Tuesday      0.067066\n",
      "Friday       0.053610\n",
      "Sunday       0.050625\n",
      "Thursday     0.047854\n",
      "Wednesday    0.043913\n",
      "Monday       0.037770\n",
      "Saturday     0.037633\n",
      "Name: Engagement Rate, dtype: float64\n"
     ]
    }
   ],
   "source": [
    "# Compute the average engagement rate for each day of the week\n",
    "average_engagement_rate = campaign_df.groupby('Day of Week')['Engagement Rate'].mean()\n",
    "sorted_engagement_rate = average_engagement_rate.sort_values(ascending=False)\n",
    "\n",
    "# Display the sorted average engagement rates\n",
    "print(sorted_engagement_rate)"
   ]
  },
  {
   "cell_type": "markdown",
   "id": "50b195e4",
   "metadata": {},
   "source": [
    "The average engagement rates for each day of the week are listed above. Tuesday has the highest engagement rate, and Saturday has the lowest."
   ]
  },
  {
   "cell_type": "code",
   "execution_count": 11,
   "id": "cafe4704",
   "metadata": {
    "scrolled": false
   },
   "outputs": [],
   "source": [
    "# Define the time windows\n",
    "time_windows = [0, 6, 12, 18, 24]\n",
    "\n",
    "# Create the 'Time of Day' column\n",
    "campaign_df['Time of Day'] = pd.cut(campaign_df['Published Date'].dt.hour, \\\n",
    "                                    bins=time_windows, \\\n",
    "                                    labels=['0-6', '6-12', '12-18', '18-24'])"
   ]
  },
  {
   "cell_type": "code",
   "execution_count": 12,
   "id": "72adaa57",
   "metadata": {},
   "outputs": [
    {
     "name": "stdout",
     "output_type": "stream",
     "text": [
      "Time of Day\n",
      "0-6      0.077037\n",
      "6-12     0.054885\n",
      "18-24    0.042959\n",
      "12-18    0.042505\n",
      "Name: Engagement Rate, dtype: float64\n"
     ]
    }
   ],
   "source": [
    "# Compute the average engagement rate for each day of the week\n",
    "average_engagement_rate_by_time = campaign_df.groupby('Time of Day')['Engagement Rate'].mean()\n",
    "sorted_engagement_rate_by_time = average_engagement_rate_by_time.sort_values(ascending=False)\n",
    "\n",
    "# Display the sorted average engagement rates\n",
    "print(sorted_engagement_rate_by_time)"
   ]
  },
  {
   "cell_type": "markdown",
   "id": "70e07c7f",
   "metadata": {},
   "source": [
    "The average engagement rates for different time windows of the day are listed above. 0-6 am time window has the highest engagement rate, and 12-18 pm time window has the lowest."
   ]
  },
  {
   "cell_type": "code",
   "execution_count": 13,
   "id": "ae74c360",
   "metadata": {},
   "outputs": [
    {
     "data": {
      "image/png": "[encoded data removed]",
      "text/plain": [
       "<Figure size 432x288 with 2 Axes>"
      ]
     },
     "metadata": {
      "needs_background": "light"
     },
     "output_type": "display_data"
    }
   ],
   "source": [
    "import seaborn as sns\n",
    "import matplotlib.pyplot as plt\n",
    "\n",
    "# Pivot the data to create a matrix for visualization\n",
    "heatmap_data = campaign_df.pivot_table(index='Time of Day', columns='Day of Week', values='Engagement Rate')\n",
    "\n",
    "# Create the heatmap\n",
    "sns.heatmap(heatmap_data, cmap='YlGnBu', annot=True, fmt=\".2f\")\n",
    "\n",
    "# Set the plot title and axis labels\n",
    "plt.title('Engagement Rate by Day of Week and Time of Day')\n",
    "plt.xlabel('Day of Week')\n",
    "plt.ylabel('Time of Day')\n",
    "\n",
    "# Display the plot\n",
    "plt.show()"
   ]
  },
  {
   "cell_type": "markdown",
   "id": "53239f96",
   "metadata": {},
   "source": [
    "The heatmap above visualize engagement rates for each time window in each day of the week, with rows representing the 'Time of Day', and the columns representing the 'Day of Week', and the values correspond to the 'Engagement Rate'.\n",
    "\n",
    "0-6 am on Tuesdays have the highest engagement rate and 18-24 pm on Saturday have the lowest engagement rate."
   ]
  },
  {
   "cell_type": "markdown",
   "id": "8c9264d4",
   "metadata": {},
   "source": [
    "#### 3. How are our game titles doing in terms of social performance? Is there a specific game we should focus more on or less?"
   ]
  },
  {
   "cell_type": "code",
   "execution_count": 14,
   "id": "9f0efca4",
   "metadata": {},
   "outputs": [],
   "source": [
    "# Replace 'General  ' with 'General' in 'Account' column\n",
    "campaign_df['Account'] = campaign_df['Account'].str.replace('General ', 'General')"
   ]
  },
  {
   "cell_type": "code",
   "execution_count": 15,
   "id": "786c7e2d",
   "metadata": {},
   "outputs": [
    {
     "name": "stdout",
     "output_type": "stream",
     "text": [
      "Account\n",
      "Content Creators    0.186702\n",
      "Valorant            0.053748\n",
      "DOTA2               0.052123\n",
      "General             0.050306\n",
      "CSGO                0.037987\n",
      "Name: Engagement Rate, dtype: float64\n"
     ]
    }
   ],
   "source": [
    "# Compute the average engagement rates for each game\n",
    "average_engagement_rate_by_game = campaign_df.groupby('Account')['Engagement Rate'].mean()\n",
    "sorted_average_engagement_rate_by_game = average_engagement_rate_by_game.sort_values(ascending=False)\n",
    "\n",
    "# Display the sorted average engagement rates\n",
    "print(sorted_average_engagement_rate_by_game)"
   ]
  },
  {
   "cell_type": "markdown",
   "id": "c1b5e9fd",
   "metadata": {},
   "source": [
    "The average engagement rates for different games are listed above. \"Content Creators\" game title has the highest engagement rates, and \"CSGO\" game title has the lowest. This may indicate that we should focus more on \"Content Creators\" and less on \"CSGO\"."
   ]
  },
  {
   "cell_type": "markdown",
   "id": "912efb05",
   "metadata": {},
   "source": [
    "#### 4. What media type performs the best?"
   ]
  },
  {
   "cell_type": "code",
   "execution_count": 16,
   "id": "3a5ab0f1",
   "metadata": {},
   "outputs": [
    {
     "name": "stdout",
     "output_type": "stream",
     "text": [
      "Media Type\n",
      "Mixed       0.107246\n",
      "Photo       0.053550\n",
      "Video       0.050503\n",
      "Text        0.039601\n",
      "Carousel    0.037843\n",
      "Link        0.009359\n",
      "Name: Engagement Rate, dtype: float64\n"
     ]
    }
   ],
   "source": [
    "# Compute the average total impressions for each game\n",
    "average_engagement_rate_by_media = campaign_df.groupby('Media Type')['Engagement Rate'].mean()\n",
    "sorted_average_engagement_rate_by_media = average_engagement_rate_by_media.sort_values(ascending=False)\n",
    "\n",
    "# Display the sorted average engagement rates for each media type\n",
    "print(sorted_average_engagement_rate_by_media)"
   ]
  },
  {
   "cell_type": "markdown",
   "id": "3be5a9bc",
   "metadata": {},
   "source": [
    "\"Mixed\" Media Type performs the best since it has the highest average engagement rate."
   ]
  },
  {
   "cell_type": "markdown",
   "id": "c4f7f445",
   "metadata": {},
   "source": [
    "#### 5. What is our best performing campaign?"
   ]
  },
  {
   "cell_type": "code",
   "execution_count": 17,
   "id": "400b848c",
   "metadata": {},
   "outputs": [
    {
     "name": "stdout",
     "output_type": "stream",
     "text": [
      "Campaign Name\n",
      "Community Engagement     0.057653\n",
      "Evergreen                0.035105\n",
      "Evil Exhibited           0.028661\n",
      "Name: Engagement Rate, dtype: float64\n"
     ]
    }
   ],
   "source": [
    "# Compute the average total impressions for each game\n",
    "average_engagement_rate_by_campaign = campaign_df.groupby('Campaign Name')['Engagement Rate'].mean()\n",
    "sorted_average_engagement_rate_by_campaign = average_engagement_rate_by_campaign.sort_values(ascending=False)\n",
    "\n",
    "# Display the sorted average engagement rates for each campaign\n",
    "print(sorted_average_engagement_rate_by_campaign)"
   ]
  },
  {
   "cell_type": "markdown",
   "id": "75cfeb2e",
   "metadata": {},
   "source": [
    "\"Community Engagement\" is the best performing campaign since it has the highest average engagement rate."
   ]
  },
  {
   "cell_type": "markdown",
   "id": "e18668a6",
   "metadata": {},
   "source": [
    "#### 6. Define out a posting strategy for our social channels based on your discoveries."
   ]
  },
  {
   "cell_type": "markdown",
   "id": "26d98330",
   "metadata": {},
   "source": [
    "I would propose the posting strategy from the following 4 aspects."
   ]
  },
  {
   "cell_type": "markdown",
   "id": "86b50e8b",
   "metadata": {},
   "source": [
    "1. Time of Day: \n",
    "- Focus on posting content during the 0-6 am time window on Tuesdays, as it has shown the highest engagement rate. This suggests that audience is particularly active and responsive during this period. Plan to schedule posts and prioritize engaging content during this time slot.\n",
    "- Also, we may want to consider reducing or adjusting the posting frequency during the 18-24 pm time window on Saturdays, as it has shown the lowest engagement rate. Evaluate the effectiveness of the content during this time and consider alternative strategies such as reposting popular content or focusing on other days with higher engagement rates."
   ]
  },
  {
   "cell_type": "markdown",
   "id": "dd004648",
   "metadata": {},
   "source": [
    "2. Game Titles:\n",
    "\n",
    "- Allocate more resources and focus on promoting the \"Content Creators\" game title since it has shown the highest engagement rates. This indicates that audience is highly interested and engaged with this specific game. Consider creating tailored content, hosting events, or collaborating with influencers that are relevant to this game title to further enhance engagement.\n",
    "- Adjust the promotion strategy for the \"CSGO\" game title, which has shown the lowest engagement rates. Explore potential reasons for the lower engagement and consider targeting different audience segments, refreshing content, or evaluating the game's appeal to the target audience. Determine if alternative marketing strategies or adjustments to the game's positioning are necessary to improve engagement."
   ]
  },
  {
   "cell_type": "markdown",
   "id": "70a7a7dd",
   "metadata": {},
   "source": [
    "3. Media Type:\n",
    "- Prioritize the \"Mixed\" media type as it has demonstrated the best performance in terms of average engagement rate. This suggests that audience responds positively to this media type. Focus on creating diverse and engaging content formats such as videos, images, and interactive elements to maximize engagement.\n",
    "- While prioritizing the \"Mixed\" media type, it's important to maintain a balanced approach and continue exploring other media types to provide variety and cater to different preferences. Evaluate the performance of other media types and consider incorporating them strategically into the social channels."
   ]
  },
  {
   "cell_type": "markdown",
   "id": "e04ce94b",
   "metadata": {},
   "source": [
    "4. Campaigns:\n",
    "\n",
    "- Leverage the success of the \"Community Engagement\" campaign, which has shown the highest average engagement rate. This indicates that audience resonates well with the themes and activities of this campaign. Continue to emphasize community engagement initiatives, encourage user participation, and foster a sense of community within the social channels.\n",
    "- While focusing on the \"Community Engagement\" campaign, also consider running parallel campaigns that align with the overall marketing objectives and cater to specific game titles or audience segments. Ensure a well-rounded mix of campaigns that address different aspects of the brand and engage a wide range of target audience."
   ]
  },
  {
   "cell_type": "markdown",
   "id": "4c9ad213",
   "metadata": {},
   "source": [
    "#### 7. What suggestions would you give to the social media team if they want to expand their presence (e.g. if our CSGO youtube channel is doing well should we expand to TikTok)?"
   ]
  },
  {
   "cell_type": "markdown",
   "id": "5ab94d98",
   "metadata": {},
   "source": [
    "1. Understand our target audience\n",
    "- They can conduct research and analysis to identify where the target audience is most active and engaged. This will help to determine the platforms that align with audience's demographics, interests, and behaviors."
   ]
  },
  {
   "cell_type": "markdown",
   "id": "8f616cf2",
   "metadata": {},
   "source": [
    "2. Evaluate platform suitability\n",
    "- Assess the suitability of each social media platform based on our goals, content type, and target audience. Consider the strengths and features of each platform, as well as the compatibility with our content. For example, if the CSGO YouTube channel is performing well and we want to reach a younger audience, expanding to TikTok could be a viable option due to its popularity among younger demographics and its focus on short-form video content."
   ]
  },
  {
   "cell_type": "markdown",
   "id": "633bfd23",
   "metadata": {},
   "source": [
    "3. Adapt content strategy\n",
    "- It's also essential to adapt our content strategy to fit the characteristics of the platform we are expanding to. Understand the content trends and preferences of the new platform and tailor our content accordingly. Repurposing or creating new content specifically designed for the platform will help us maximize engagement and resonate with the new audience."
   ]
  },
  {
   "cell_type": "markdown",
   "id": "8e134bb3",
   "metadata": {},
   "source": [
    "4. Allocate resources wisely\n",
    "- Expanding to new social media platforms requires dedicated resources in terms of content creation, management, and engagement. Assess the team's capacity and capabilities first to ensure they can effectively manage the additional platforms without compromising the quality or consistency of your content."
   ]
  }
 ],
 "metadata": {
  "kernelspec": {
   "display_name": "Python 3 (ipykernel)",
   "language": "python",
   "name": "python3"
  },
  "language_info": {
   "codemirror_mode": {
    "name": "ipython",
    "version": 3
   },
   "file_extension": ".py",
   "mimetype": "text/x-python",
   "name": "python",
   "nbconvert_exporter": "python",
   "pygments_lexer": "ipython3",
   "version": "3.9.12"
  }
 },
 "nbformat": 4,
 "nbformat_minor": 5
}
